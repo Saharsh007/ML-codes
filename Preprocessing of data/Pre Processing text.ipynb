{
 "cells": [
  {
   "cell_type": "code",
   "execution_count": 1,
   "metadata": {},
   "outputs": [],
   "source": [
    "#IMPORTING LIBRARIES\n",
    "import numpy as np\n",
    "import pandas as pd\n",
    "import matplotlib.pyplot as plt\n",
    "import nltk\n",
    "from nltk.corpus import stopwords\n",
    "import string\n",
    "from nltk.tokenize import word_tokenize\n",
    "from sklearn.feature_extraction.text import CountVectorizer\n",
    "import textblob\n",
    "from textblob import TextBlob #FOR ERROR CORRECTION"
   ]
  },
  {
   "cell_type": "code",
   "execution_count": 2,
   "metadata": {},
   "outputs": [
    {
     "data": {
      "text/plain": [
       "'v1,v2,,,\\nham,\"Go until jurong point, crazy.. Available only in bugis n great world la e buffet... Cine there got amore wat...\",,,\\nham,Ok lar... Joking wif u oni...,,,\\nspam,Free entry in 2 a wkly comp to win FA Cup final tkts 21st May 2005. Text FA to 87121 to receive entry question(std txt rate)T&C\\'s apply 08452810075over18\\'s,,,\\nham,U dun say so early hor... U c already then say...,,,\\nham,\"Nah I don\\'t think he goes to usf, he lives around here though\",,,\\nspam,\"FreeMsg Hey there darling it\\'s been'"
      ]
     },
     "execution_count": 2,
     "metadata": {},
     "output_type": "execute_result"
    }
   ],
   "source": [
    "#SAMPLE TEXT SET\n",
    "#sample = open('train_E6oV3lV.csv').read()\n",
    "#THIS IS ALREADY A LABELLED DATASET WITH v1,v2, , , AS 5 LABLES\n",
    "rawdata = open('spam.csv', encoding = \"ISO-8859-1\").read()\n",
    "rawdata[:500]\n"
   ]
  },
  {
   "cell_type": "code",
   "execution_count": 3,
   "metadata": {},
   "outputs": [
    {
     "data": {
      "text/html": [
       "<div>\n",
       "<style scoped>\n",
       "    .dataframe tbody tr th:only-of-type {\n",
       "        vertical-align: middle;\n",
       "    }\n",
       "\n",
       "    .dataframe tbody tr th {\n",
       "        vertical-align: top;\n",
       "    }\n",
       "\n",
       "    .dataframe thead th {\n",
       "        text-align: right;\n",
       "    }\n",
       "</style>\n",
       "<table border=\"1\" class=\"dataframe\">\n",
       "  <thead>\n",
       "    <tr style=\"text-align: right;\">\n",
       "      <th></th>\n",
       "      <th>category</th>\n",
       "      <th>message</th>\n",
       "    </tr>\n",
       "  </thead>\n",
       "  <tbody>\n",
       "    <tr>\n",
       "      <th>0</th>\n",
       "      <td>ham</td>\n",
       "      <td>Go until jurong point, crazy.. Available only ...</td>\n",
       "    </tr>\n",
       "    <tr>\n",
       "      <th>1</th>\n",
       "      <td>ham</td>\n",
       "      <td>Ok lar... Joking wif u oni...</td>\n",
       "    </tr>\n",
       "    <tr>\n",
       "      <th>2</th>\n",
       "      <td>spam</td>\n",
       "      <td>Free entry in 2 a wkly comp to win FA Cup fina...</td>\n",
       "    </tr>\n",
       "    <tr>\n",
       "      <th>3</th>\n",
       "      <td>ham</td>\n",
       "      <td>U dun say so early hor... U c already then say...</td>\n",
       "    </tr>\n",
       "    <tr>\n",
       "      <th>4</th>\n",
       "      <td>ham</td>\n",
       "      <td>Nah I don't think he goes to usf, he lives aro...</td>\n",
       "    </tr>\n",
       "    <tr>\n",
       "      <th>5</th>\n",
       "      <td>spam</td>\n",
       "      <td>FreeMsg Hey there darling it's been 3 week's n...</td>\n",
       "    </tr>\n",
       "    <tr>\n",
       "      <th>6</th>\n",
       "      <td>ham</td>\n",
       "      <td>Even my brother is not like to speak with me. ...</td>\n",
       "    </tr>\n",
       "    <tr>\n",
       "      <th>7</th>\n",
       "      <td>ham</td>\n",
       "      <td>As per your request 'Melle Melle (Oru Minnamin...</td>\n",
       "    </tr>\n",
       "    <tr>\n",
       "      <th>8</th>\n",
       "      <td>spam</td>\n",
       "      <td>WINNER!! As a valued network customer you have...</td>\n",
       "    </tr>\n",
       "    <tr>\n",
       "      <th>9</th>\n",
       "      <td>spam</td>\n",
       "      <td>Had your mobile 11 months or more? U R entitle...</td>\n",
       "    </tr>\n",
       "  </tbody>\n",
       "</table>\n",
       "</div>"
      ],
      "text/plain": [
       "  category                                            message\n",
       "0      ham  Go until jurong point, crazy.. Available only ...\n",
       "1      ham                      Ok lar... Joking wif u oni...\n",
       "2     spam  Free entry in 2 a wkly comp to win FA Cup fina...\n",
       "3      ham  U dun say so early hor... U c already then say...\n",
       "4      ham  Nah I don't think he goes to usf, he lives aro...\n",
       "5     spam  FreeMsg Hey there darling it's been 3 week's n...\n",
       "6      ham  Even my brother is not like to speak with me. ...\n",
       "7      ham  As per your request 'Melle Melle (Oru Minnamin...\n",
       "8     spam  WINNER!! As a valued network customer you have...\n",
       "9     spam  Had your mobile 11 months or more? U R entitle..."
      ]
     },
     "execution_count": 3,
     "metadata": {},
     "output_type": "execute_result"
    }
   ],
   "source": [
    "#USING PANDAS TO CLEAN \n",
    "#INCASE THE DATASET WASN'T LABELLED WE COULD HAVE USED THIS\n",
    "#data = pd.read_csv('spam.csv',sep='\\t ', names= ['label','body_text'],header = None,engine='python')\n",
    "data = pd.read_csv(\"spam.csv\", encoding = 'latin-1')\n",
    "data.columns = [\"category\",\"message\",\"\",\"\",\"\"]\n",
    "data = data.drop(labels = [\"\",\"\",\"\"],axis=1)\n",
    "data.head(10)"
   ]
  },
  {
   "cell_type": "code",
   "execution_count": 4,
   "metadata": {},
   "outputs": [
    {
     "data": {
      "image/png": "[encoded data removed]",
      "text/plain": [
       "<Figure size 432x432 with 1 Axes>"
      ]
     },
     "metadata": {},
     "output_type": "display_data"
    }
   ],
   "source": [
    "#ANALYZING THE DATASET\n",
    "data[\"category\"].value_counts().plot(kind = 'pie', explode = [0, 0.1], figsize = (6, 6), autopct = '%1.1f%%', shadow = True)\n",
    "plt.ylabel(\"Spam vs Ham\")\n",
    "plt.xlabel(\"jsut\")\n",
    "plt.legend([\"Ham\", \"Spam\"])\n",
    "plt.show()"
   ]
  },
  {
   "cell_type": "code",
   "execution_count": 5,
   "metadata": {},
   "outputs": [
    {
     "name": "stdout",
     "output_type": "stream",
     "text": [
      "!\"#$%&'()*+,-./:;<=>?@[\\]^_`{|}~\n",
      "  category                                            message  \\\n",
      "0      ham  Go until jurong point, crazy.. Available only ...   \n",
      "1      ham                      Ok lar... Joking wif u oni...   \n",
      "2     spam  Free entry in 2 a wkly comp to win FA Cup fina...   \n",
      "3      ham  U dun say so early hor... U c already then say...   \n",
      "4      ham  Nah I don't think he goes to usf, he lives aro...   \n",
      "5     spam  FreeMsg Hey there darling it's been 3 week's n...   \n",
      "6      ham  Even my brother is not like to speak with me. ...   \n",
      "7      ham  As per your request 'Melle Melle (Oru Minnamin...   \n",
      "8     spam  WINNER!! As a valued network customer you have...   \n",
      "9     spam  Had your mobile 11 months or more? U R entitle...   \n",
      "\n",
      "                                     message_nopunct  \n",
      "0  [go, until, jurong, point, crazy, available, o...  \n",
      "1                     [ok, lar, joking, wif, u, oni]  \n",
      "2  [free, entry, in, 2, a, wkly, comp, to, win, f...  \n",
      "3  [u, dun, say, so, early, hor, u, c, already, t...  \n",
      "4  [nah, i, dont, think, he, goes, to, usf, he, l...  \n",
      "5  [freemsg, hey, there, darling, its, been, 3, w...  \n",
      "6  [even, my, brother, is, not, like, to, speak, ...  \n",
      "7  [as, per, your, request, melle, melle, oru, mi...  \n",
      "8  [winner, as, a, valued, network, customer, you...  \n",
      "9  [had, your, mobile, 11, months, or, more, u, r...  \n"
     ]
    }
   ],
   "source": [
    "#REMOVING PUNCATUATIONS\n",
    "print(string.punctuation)\n",
    "def remove_punct(text):\n",
    "    #REMOVING PUNCTUCATION\n",
    "    text_nopunct = \"\".join([char for char in text if char not in string.punctuation])\n",
    "    \n",
    "    #EDITING IT TO ADD LOWER FUNCITION TOO\n",
    "    text_nopunct = text_nopunct.lower()\n",
    "    \n",
    "    text_nopunct = word_tokenize(text_nopunct)\n",
    "    return text_nopunct\n",
    "\n",
    "\n",
    "data['message_nopunct'] = data['message'].apply(lambda x:remove_punct(x))\n",
    "print(data.head(10))\n",
    "\n"
   ]
  },
  {
   "cell_type": "code",
   "execution_count": 6,
   "metadata": {},
   "outputs": [
    {
     "name": "stdout",
     "output_type": "stream",
     "text": [
      "['i', 'me', 'my', 'myself', 'we', 'our', 'ours', 'ourselves', 'you', \"you're\", \"you've\", \"you'll\", \"you'd\", 'your', 'yours', 'yourself', 'yourselves', 'he', 'him', 'his', 'himself', 'she', \"she's\", 'her', 'hers', 'herself', 'it', \"it's\", 'its', 'itself', 'they', 'them', 'their', 'theirs', 'themselves', 'what', 'which', 'who', 'whom', 'this', 'that', \"that'll\", 'these', 'those', 'am', 'is', 'are', 'was', 'were', 'be', 'been', 'being', 'have', 'has', 'had', 'having', 'do', 'does', 'did', 'doing', 'a', 'an', 'the', 'and', 'but', 'if', 'or', 'because', 'as', 'until', 'while', 'of', 'at', 'by', 'for', 'with', 'about', 'against', 'between', 'into', 'through', 'during', 'before', 'after', 'above', 'below', 'to', 'from', 'up', 'down', 'in', 'out', 'on', 'off', 'over', 'under', 'again', 'further', 'then', 'once', 'here', 'there', 'when', 'where', 'why', 'how', 'all', 'any', 'both', 'each', 'few', 'more', 'most', 'other', 'some', 'such', 'no', 'nor', 'not', 'only', 'own', 'same', 'so', 'than', 'too', 'very', 's', 't', 'can', 'will', 'just', 'don', \"don't\", 'should', \"should've\", 'now', 'd', 'll', 'm', 'o', 're', 've', 'y', 'ain', 'aren', \"aren't\", 'couldn', \"couldn't\", 'didn', \"didn't\", 'doesn', \"doesn't\", 'hadn', \"hadn't\", 'hasn', \"hasn't\", 'haven', \"haven't\", 'isn', \"isn't\", 'ma', 'mightn', \"mightn't\", 'mustn', \"mustn't\", 'needn', \"needn't\", 'shan', \"shan't\", 'shouldn', \"shouldn't\", 'wasn', \"wasn't\", 'weren', \"weren't\", 'won', \"won't\", 'wouldn', \"wouldn't\", 'ok']\n",
      "  category                                            message  \\\n",
      "0      ham  Go until jurong point, crazy.. Available only ...   \n",
      "1      ham                      Ok lar... Joking wif u oni...   \n",
      "2     spam  Free entry in 2 a wkly comp to win FA Cup fina...   \n",
      "3      ham  U dun say so early hor... U c already then say...   \n",
      "4      ham  Nah I don't think he goes to usf, he lives aro...   \n",
      "\n",
      "                                     message_nopunct  \\\n",
      "0  [go, until, jurong, point, crazy, available, o...   \n",
      "1                     [ok, lar, joking, wif, u, oni]   \n",
      "2  [free, entry, in, 2, a, wkly, comp, to, win, f...   \n",
      "3  [u, dun, say, so, early, hor, u, c, already, t...   \n",
      "4  [nah, i, dont, think, he, goes, to, usf, he, l...   \n",
      "\n",
      "                                          message_sw  \n",
      "0  [go, jurong, point, crazy, available, bugis, n...  \n",
      "1                         [lar, joking, wif, u, oni]  \n",
      "2  [free, entry, 2, wkly, comp, win, fa, cup, fin...  \n",
      "3      [u, dun, say, early, hor, u, c, already, say]  \n",
      "4  [nah, dont, think, goes, usf, lives, around, t...  \n"
     ]
    }
   ],
   "source": [
    "#REMOVING STOPWORDS\n",
    "#NLTK ALREADY CONTAINS STOPWORDS\n",
    "stopwords = nltk.corpus.stopwords.words('english')\n",
    "#APPEND IF MORE STOPWORDS ARE REQUIRED\n",
    "stopwords.append('ok')\n",
    "print(stopwords)\n",
    "def remove_stop_words(tokenized_list):\n",
    "    temp = [words for words in tokenized_list if words not in stopwords]\n",
    "    return temp\n",
    "    \n",
    "data['message_sw'] = data['message_nopunct'].apply(lambda x : remove_stop_words(x))\n",
    "print(data.head())"
   ]
  },
  {
   "cell_type": "code",
   "execution_count": 7,
   "metadata": {},
   "outputs": [
    {
     "name": "stdout",
     "output_type": "stream",
     "text": [
      "  category                                            message  \\\n",
      "0      ham  Go until jurong point, crazy.. Available only ...   \n",
      "1      ham                      Ok lar... Joking wif u oni...   \n",
      "2     spam  Free entry in 2 a wkly comp to win FA Cup fina...   \n",
      "3      ham  U dun say so early hor... U c already then say...   \n",
      "4      ham  Nah I don't think he goes to usf, he lives aro...   \n",
      "\n",
      "                                     message_nopunct  \\\n",
      "0  [go, until, jurong, point, crazy, available, o...   \n",
      "1                     [ok, lar, joking, wif, u, oni]   \n",
      "2  [free, entry, in, 2, a, wkly, comp, to, win, f...   \n",
      "3  [u, dun, say, so, early, hor, u, c, already, t...   \n",
      "4  [nah, i, dont, think, he, goes, to, usf, he, l...   \n",
      "\n",
      "                                          message_sw  \\\n",
      "0  [go, jurong, point, crazy, available, bugis, n...   \n",
      "1                         [lar, joking, wif, u, oni]   \n",
      "2  [free, entry, 2, wkly, comp, win, fa, cup, fin...   \n",
      "3      [u, dun, say, early, hor, u, c, already, say]   \n",
      "4  [nah, dont, think, goes, usf, lives, around, t...   \n",
      "\n",
      "                                                STEM  \n",
      "0  [go, jurong, point, crazi, avail, bugi, n, gre...  \n",
      "1                           [lar, joke, wif, u, oni]  \n",
      "2  [free, entri, 2, wkli, comp, win, fa, cup, fin...  \n",
      "3      [u, dun, say, earli, hor, u, c, alreadi, say]  \n",
      "4  [nah, dont, think, goe, usf, live, around, tho...  \n"
     ]
    }
   ],
   "source": [
    "#STEMMING : REDUCING WORDS TO ITS BASIC VERSION ex:running -> run\n",
    "ps = nltk.PorterStemmer()\n",
    "def stemming(text):\n",
    "    text = [ps.stem(word) for word in text]\n",
    "    return text\n",
    "data['STEM'] = data['message_sw'].apply(lambda x: stemming(x))\n",
    "print(data.head(5))"
   ]
  },
  {
   "cell_type": "code",
   "execution_count": 8,
   "metadata": {},
   "outputs": [
    {
     "name": "stdout",
     "output_type": "stream",
     "text": [
      "  category                                            message  \\\n",
      "0      ham  Go until jurong point, crazy.. Available only ...   \n",
      "1      ham                      Ok lar... Joking wif u oni...   \n",
      "2     spam  Free entry in 2 a wkly comp to win FA Cup fina...   \n",
      "3      ham  U dun say so early hor... U c already then say...   \n",
      "4      ham  Nah I don't think he goes to usf, he lives aro...   \n",
      "\n",
      "                                     message_nopunct  \\\n",
      "0  [go, until, jurong, point, crazy, available, o...   \n",
      "1                     [ok, lar, joking, wif, u, oni]   \n",
      "2  [free, entry, in, 2, a, wkly, comp, to, win, f...   \n",
      "3  [u, dun, say, so, early, hor, u, c, already, t...   \n",
      "4  [nah, i, dont, think, he, goes, to, usf, he, l...   \n",
      "\n",
      "                                          message_sw  \\\n",
      "0  [go, jurong, point, crazy, available, bugis, n...   \n",
      "1                         [lar, joking, wif, u, oni]   \n",
      "2  [free, entry, 2, wkly, comp, win, fa, cup, fin...   \n",
      "3      [u, dun, say, early, hor, u, c, already, say]   \n",
      "4  [nah, dont, think, goes, usf, lives, around, t...   \n",
      "\n",
      "                                                STEM  \\\n",
      "0  [go, jurong, point, crazi, avail, bugi, n, gre...   \n",
      "1                           [lar, joke, wif, u, oni]   \n",
      "2  [free, entri, 2, wkli, comp, win, fa, cup, fin...   \n",
      "3      [u, dun, say, earli, hor, u, c, alreadi, say]   \n",
      "4  [nah, dont, think, goe, usf, live, around, tho...   \n",
      "\n",
      "                                               LEMMA  \n",
      "0  [go, jurong, point, crazy, available, bugis, n...  \n",
      "1                         [lar, joking, wif, u, oni]  \n",
      "2  [free, entry, 2, wkly, comp, win, fa, cup, fin...  \n",
      "3      [u, dun, say, early, hor, u, c, already, say]  \n",
      "4  [nah, dont, think, go, usf, life, around, though]  \n"
     ]
    }
   ],
   "source": [
    "#LEMMATISING -FINDING THE ROOT FORM\n",
    "wn = nltk.WordNetLemmatizer()\n",
    "def lemmatising(text):\n",
    "    text = [wn.lemmatize(word) for word in text]\n",
    "    return text\n",
    "data['LEMMA'] = data['message_sw'].apply(lambda x: lemmatising(x))\n",
    "print(data.head())"
   ]
  },
  {
   "cell_type": "code",
   "execution_count": 9,
   "metadata": {},
   "outputs": [],
   "source": [
    "#BAG OF WORDS\n",
    "count_vec = CountVectorizer()\n",
    "X_count = count_vec.fit_transform(data['message'])\n",
    "#print(X_count.shape) (5572, 8672)\n",
    "#THIS MEANS 8672 DIFFERENT WORDS AND 5572 ROWS OF TEXTS\n",
    "\n",
    "#N_gram MODELS ->SUPPOSE A BIGRAM MODEL ->TAKES ALL POSSIBILITIES OF ADJECENT WORDS TO  PREDICT CONTEXT WORDS.\n",
    "n_gramvector = CountVectorizer(ngram_range=(2,2))\n",
    "X_count = n_gramvector.fit_transform(data['message'])\n",
    "#print(X_count.shape) (5572, 41654)\n",
    "#print(n_gramvector.get_feature_names())"
   ]
  },
  {
   "cell_type": "code",
   "execution_count": 10,
   "metadata": {},
   "outputs": [],
   "source": [
    "#TFIDF MATRIX ->CALCULATES RELATIVE FREQUENCY\n",
    "from sklearn.feature_extraction.text import TfidfVectorizer\n",
    "tfidf_vect = TfidfVectorizer()\n",
    "X_vect = tfidf_vect.fit_transform(data['message'])\n",
    "#print(X_vect.shape)  (5572, 8672)\n",
    "#print(tfidf_vect.get_feature_names())"
   ]
  },
  {
   "cell_type": "code",
   "execution_count": 11,
   "metadata": {},
   "outputs": [],
   "source": [
    "#REMOVEL OF COMMON WORDS\n",
    "freq = pd.Series(' '.join(data['message']).split()).value_counts()[:10]\n",
    "#freq"
   ]
  },
  {
   "cell_type": "code",
   "execution_count": 12,
   "metadata": {},
   "outputs": [
    {
     "data": {
      "text/plain": [
       "0    Go until jurong point, crazy.. Available only ...\n",
       "1                          Ok lar... Joking wif oni...\n",
       "2    Free entry 2 wkly comp win FA Cup final tkts 2...\n",
       "3    U dun say so early hor... U c already then say...\n",
       "4    Nah don't think he goes usf, he lives around h...\n",
       "Name: message, dtype: object"
      ]
     },
     "execution_count": 12,
     "metadata": {},
     "output_type": "execute_result"
    }
   ],
   "source": [
    "data1 = list(data.index)\n",
    "data['message'] = data['message'].apply(lambda x: \" \".join(x for x in x.split() if x not in freq))\n",
    "data['message'].head()\n"
   ]
  },
  {
   "cell_type": "code",
   "execution_count": 13,
   "metadata": {},
   "outputs": [
    {
     "name": "stdout",
     "output_type": "stream",
     "text": [
      "  category                                            message  \\\n",
      "0      ham  Go until jurong point, crazy.. Available only ...   \n",
      "1      ham                        Ok lar... Joking wif oni...   \n",
      "2     spam  Free entry 2 wkly comp win FA Cup final tkts 2...   \n",
      "3      ham  U dun say so early hor... U c already then say...   \n",
      "4      ham  Nah don't think he goes usf, he lives around h...   \n",
      "\n",
      "                                     message_nopunct  \\\n",
      "0  [go, until, jurong, point, crazy, available, o...   \n",
      "1                     [ok, lar, joking, wif, u, oni]   \n",
      "2  [free, entry, in, 2, a, wkly, comp, to, win, f...   \n",
      "3  [u, dun, say, so, early, hor, u, c, already, t...   \n",
      "4  [nah, i, dont, think, he, goes, to, usf, he, l...   \n",
      "\n",
      "                                          message_sw  \\\n",
      "0  [go, jurong, point, crazy, available, bugis, n...   \n",
      "1                         [lar, joking, wif, u, oni]   \n",
      "2  [free, entry, 2, wkly, comp, win, fa, cup, fin...   \n",
      "3      [u, dun, say, early, hor, u, c, already, say]   \n",
      "4  [nah, dont, think, goes, usf, lives, around, t...   \n",
      "\n",
      "                                                STEM  \\\n",
      "0  [go, jurong, point, crazi, avail, bugi, n, gre...   \n",
      "1                           [lar, joke, wif, u, oni]   \n",
      "2  [free, entri, 2, wkli, comp, win, fa, cup, fin...   \n",
      "3      [u, dun, say, earli, hor, u, c, alreadi, say]   \n",
      "4  [nah, dont, think, goe, usf, live, around, tho...   \n",
      "\n",
      "                                               LEMMA  sentiment  \n",
      "0  [go, jurong, point, crazy, available, bugis, n...       0.15  \n",
      "1                         [lar, joking, wif, u, oni]       0.50  \n",
      "2  [free, entry, 2, wkly, comp, win, fa, cup, fin...       0.30  \n",
      "3      [u, dun, say, early, hor, u, c, already, say]       0.10  \n",
      "4  [nah, dont, think, go, usf, life, around, though]       0.00  \n"
     ]
    }
   ],
   "source": [
    "#THIS IS TEXT CORRECTION AND ITS TAKING A LOT OF TIME SO I DIDN'T DO IT\n",
    "#data['message_correct'] = data['message'].apply(lambda x: str(TextBlob(x).correct()))\n",
    "#print(data['message'].head(15))\n",
    "\n",
    "\n",
    "#SENTIMENT ANALYSIS\n",
    "data['sentiment'] = data['message'].apply(lambda x: TextBlob(x).sentiment[0] )\n",
    "print(data.head())  #1 means +ve and 0 is -ve"
   ]
  },
  {
   "cell_type": "code",
   "execution_count": 18,
   "metadata": {},
   "outputs": [],
   "source": [
    "#WORD EMBEDDINGS\n",
    "#DON'T RUN THIS AGAIN AND AGAIN TAKES TIME\n",
    "#the two files are needed in the same directory\n",
    "from gensim.scripts.glove2word2vec import glove2word2vec\n",
    "glove_input_file = 'glove.6B.100d.txt'\n",
    "word2vec_output_file = 'glove.6B.100d.txt.word2vec'\n",
    "glove2word2vec(glove_input_file, word2vec_output_file)\n",
    "\n",
    "from gensim.models import KeyedVectors # load the Stanford GloVe model\n",
    "filename = 'glove.6B.100d.txt.word2vec'\n",
    "model = KeyedVectors.load_word2vec_format(filename, binary=False)"
   ]
  },
  {
   "cell_type": "code",
   "execution_count": 25,
   "metadata": {},
   "outputs": [
    {
     "name": "stdout",
     "output_type": "stream",
     "text": [
      "[('physicist', 1.1379300355911255)]\n"
     ]
    }
   ],
   "source": [
    "#model['happy']  #EMBEDDING VECTOR OF ANY WORD\n",
    "result = model.most_similar(positive=['man', 'scientist'], negative=['women'], topn=1)\n",
    "print(result)\n",
    "\n",
    "#WORD EMBEDDING MODEL HAS A LOT MORE FEATURES "
   ]
  },
  {
   "cell_type": "code",
   "execution_count": 2,
   "metadata": {},
   "outputs": [
    {
     "name": "stdout",
     "output_type": "stream",
     "text": [
      "[('You', 'PRP'), ('will', 'MD'), ('not', 'RB'), ('be', 'VB'), ('able', 'JJ'), ('to', 'TO'), ('escape', 'VB'), ('the', 'DT'), ('wrath', 'NN'), ('of', 'IN'), ('the', 'DT'), ('dragon', 'NN')]\n",
      "[('You', 'PRP'), ('will', 'MD'), ('not', 'RB'), ('be', 'VB'), ('able', 'JJ'), ('to', 'TO'), ('escape', 'VB'), ('the', 'DT'), ('wrath', 'NN'), ('of', 'IN'), ('the', 'DT'), ('dragon', 'NN')]\n"
     ]
    }
   ],
   "source": [
    "import nltk\n",
    "from nltk import *\n",
    "sta = StanfordPOSTagger('english-bidirectional-distsim.tagger','stanford-postagger.jar')\n",
    "print( sta.tag((\"You will not be able to escape the wrath of the dragon\").split()))\n",
    "text = word_tokenize(\"You will not be able to escape the wrath of the dragon\")\n",
    "print( pos_tag(text))\n",
    "def GetPOSTags(text):\n",
    "#         text = word_tokenize(text)\n",
    "#         return pos_tag(text)\n",
    "          sta = StanfordPOSTagger('english-bidirectional-distsim.tagger','stanford-postagger.jar')\n",
    "          output = sta.tag(text.split())\n",
    "          return output"
   ]
  },
  {
   "cell_type": "markdown",
   "metadata": {},
   "source": [
    "## Code after this line is testing of stanford NER and POS tagger and not really relevent"
   ]
  },
  {
   "cell_type": "code",
   "execution_count": 8,
   "metadata": {},
   "outputs": [
    {
     "name": "stdout",
     "output_type": "stream",
     "text": [
      "(S\n",
      "  While/O\n",
      "  in/O\n",
      "  (GSP South/LOCATION East/LOCATION Asia/LOCATION)\n",
      "  ,/O\n",
      "  (PERSON Christine/PERSON Lagarde/PERSON)\n",
      "  discussed/O\n",
      "  short-term/O\n",
      "  stimulus/O\n",
      "  efforts/O\n",
      "  in/O\n",
      "  a/O\n",
      "  recent/O\n",
      "  interview/O\n",
      "  with/O\n",
      "  the/O\n",
      "  (ORGANIZATION\n",
      "    Wall/ORGANIZATION\n",
      "    Street/ORGANIZATION\n",
      "    Journal/ORGANIZATION)\n",
      "  at/O\n",
      "  (GSP Washington/LOCATION Monument/LOCATION))\n",
      "{'South East': 'GPE', 'Christine Lagarde': 'PERSON', 'Wall Street Journal': 'FACILITY', 'Washington': 'ORGANIZATION'}\n",
      "(S\n",
      "  While/IN\n",
      "  in/IN\n",
      "  (GPE South/NNP East/NNP)\n",
      "  Asia,/NNP\n",
      "  (PERSON Christine/NNP Lagarde/NNP)\n",
      "  discussed/VBD\n",
      "  short-term/JJ\n",
      "  stimulus/NN\n",
      "  efforts/NNS\n",
      "  in/IN\n",
      "  a/DT\n",
      "  recent/JJ\n",
      "  interview/NN\n",
      "  with/IN\n",
      "  the/DT\n",
      "  (FACILITY Wall/NNP Street/NNP Journal/NNP)\n",
      "  at/IN\n",
      "  (ORGANIZATION Washington/NNP)\n",
      "  Monument/NNP)\n"
     ]
    }
   ],
   "source": [
    "from nltk.tag import StanfordNERTagger\n",
    "st = StanfordNERTagger('english.all.3class.distsim.crf.ser.gz','stanford-ner.jar',encoding='utf-8')\n",
    "\n",
    "text = 'While in South East Asia, Christine Lagarde discussed short-term stimulus efforts in a recent interview with the Wall Street Journal at Washington Monument'\n",
    "\n",
    "tokenized_text = word_tokenize(text)\n",
    "classified_text = st.tag(tokenized_text)\n",
    "finallist = {}\n",
    "current = \"\"\n",
    "# for chunk in classified_text:\n",
    "#     if current\n",
    "grammar = r\"\"\"\n",
    "  FACILITY: {<FACILITY>*}  \n",
    "  GPE: {<GPE>*}  \n",
    "  GSP: {<LOCATION>*}  \n",
    "  ORGANIZATION: {<ORGANIZATION>*}  \n",
    "  PERSON: {<PERSON>*}  \n",
    "     \n",
    "\"\"\"\n",
    "\n",
    "cp = nltk.RegexpParser(grammar)\n",
    "result = cp.parse(classified_text)\n",
    "print(result)\n",
    "\n",
    "\n",
    "#print(tree)\n",
    "\n",
    "ner_tags = {}\n",
    "for sent in nltk.sent_tokenize(text):\n",
    "    for chunk in nltk.ne_chunk(GetPOSTags(text)):\n",
    "        if hasattr(chunk, 'label'):\n",
    "            word = (' '.join(c[0] for c in chunk))\n",
    "            ner_tags[word] = chunk.label()\n",
    "print(ner_tags)\n",
    "print(nltk.ne_chunk(GetPOSTags(text)))"
   ]
  },
  {
   "cell_type": "code",
   "execution_count": null,
   "metadata": {},
   "outputs": [],
   "source": []
  },
  {
   "cell_type": "code",
   "execution_count": 1,
   "metadata": {},
   "outputs": [
    {
     "name": "stderr",
     "output_type": "stream",
     "text": [
      "/home/saharsh/anaconda3/lib/python3.6/site-packages/nltk/tag/stanford.py:183: DeprecationWarning: \n",
      "The StanfordTokenizer will be deprecated in version 3.2.5.\n",
      "Please use \u001b[91mnltk.tag.corenlp.CoreNLPPOSTagger\u001b[0m or \u001b[91mnltk.tag.corenlp.CoreNLPNERTagger\u001b[0m instead.\n",
      "  super(StanfordNERTagger, self).__init__(*args, **kwargs)\n"
     ]
    },
    {
     "ename": "LookupError",
     "evalue": "Could not find stanford-ner.jar jar file at stanford-ner.jar",
     "output_type": "error",
     "traceback": [
      "\u001b[0;31m---------------------------------------------------------------------------\u001b[0m",
      "\u001b[0;31mLookupError\u001b[0m                               Traceback (most recent call last)",
      "\u001b[0;32m<ipython-input-1-b2c0b9579b67>\u001b[0m in \u001b[0;36m<module>\u001b[0;34m()\u001b[0m\n\u001b[1;32m      3\u001b[0m \u001b[0mtext\u001b[0m \u001b[0;34m=\u001b[0m \u001b[0;34m'While in Midlothian, Christine Saharsh Lagarde discussed short-term stimulus efforts in a recent interview with the Wall Street Journal at Stonehenge'\u001b[0m\u001b[0;34m\u001b[0m\u001b[0m\n\u001b[1;32m      4\u001b[0m \u001b[0mtext\u001b[0m \u001b[0;34m=\u001b[0m \u001b[0;34m'we will go to Stonehenge tommorow'\u001b[0m\u001b[0;34m\u001b[0m\u001b[0m\n\u001b[0;32m----> 5\u001b[0;31m \u001b[0mner_tagger\u001b[0m \u001b[0;34m=\u001b[0m \u001b[0mStanfordNERTagger\u001b[0m\u001b[0;34m(\u001b[0m\u001b[0;34m'english.all.3class.distsim.crf.ser.gz'\u001b[0m\u001b[0;34m,\u001b[0m\u001b[0;34m'stanford-ner.jar'\u001b[0m\u001b[0;34m,\u001b[0m\u001b[0mencoding\u001b[0m\u001b[0;34m=\u001b[0m\u001b[0;34m'utf-8'\u001b[0m\u001b[0;34m)\u001b[0m\u001b[0;34m\u001b[0m\u001b[0m\n\u001b[0m\u001b[1;32m      6\u001b[0m \u001b[0mtokenized_text\u001b[0m \u001b[0;34m=\u001b[0m \u001b[0mword_tokenize\u001b[0m\u001b[0;34m(\u001b[0m\u001b[0mtext\u001b[0m\u001b[0;34m)\u001b[0m\u001b[0;34m\u001b[0m\u001b[0m\n\u001b[1;32m      7\u001b[0m \u001b[0mclassified_text\u001b[0m \u001b[0;34m=\u001b[0m \u001b[0mner_tagger\u001b[0m\u001b[0;34m.\u001b[0m\u001b[0mtag\u001b[0m\u001b[0;34m(\u001b[0m\u001b[0mtokenized_text\u001b[0m\u001b[0;34m)\u001b[0m\u001b[0;34m\u001b[0m\u001b[0m\n",
      "\u001b[0;32m~/anaconda3/lib/python3.6/site-packages/nltk/tag/stanford.py\u001b[0m in \u001b[0;36m__init__\u001b[0;34m(self, *args, **kwargs)\u001b[0m\n\u001b[1;32m    181\u001b[0m \u001b[0;34m\u001b[0m\u001b[0m\n\u001b[1;32m    182\u001b[0m     \u001b[0;32mdef\u001b[0m \u001b[0m__init__\u001b[0m\u001b[0;34m(\u001b[0m\u001b[0mself\u001b[0m\u001b[0;34m,\u001b[0m \u001b[0;34m*\u001b[0m\u001b[0margs\u001b[0m\u001b[0;34m,\u001b[0m \u001b[0;34m**\u001b[0m\u001b[0mkwargs\u001b[0m\u001b[0;34m)\u001b[0m\u001b[0;34m:\u001b[0m\u001b[0;34m\u001b[0m\u001b[0m\n\u001b[0;32m--> 183\u001b[0;31m         \u001b[0msuper\u001b[0m\u001b[0;34m(\u001b[0m\u001b[0mStanfordNERTagger\u001b[0m\u001b[0;34m,\u001b[0m \u001b[0mself\u001b[0m\u001b[0;34m)\u001b[0m\u001b[0;34m.\u001b[0m\u001b[0m__init__\u001b[0m\u001b[0;34m(\u001b[0m\u001b[0;34m*\u001b[0m\u001b[0margs\u001b[0m\u001b[0;34m,\u001b[0m \u001b[0;34m**\u001b[0m\u001b[0mkwargs\u001b[0m\u001b[0;34m)\u001b[0m\u001b[0;34m\u001b[0m\u001b[0m\n\u001b[0m\u001b[1;32m    184\u001b[0m \u001b[0;34m\u001b[0m\u001b[0m\n\u001b[1;32m    185\u001b[0m     \u001b[0;34m@\u001b[0m\u001b[0mproperty\u001b[0m\u001b[0;34m\u001b[0m\u001b[0m\n",
      "\u001b[0;32m~/anaconda3/lib/python3.6/site-packages/nltk/tag/stanford.py\u001b[0m in \u001b[0;36m__init__\u001b[0;34m(self, model_filename, path_to_jar, encoding, verbose, java_options)\u001b[0m\n\u001b[1;32m     64\u001b[0m                 \u001b[0mself\u001b[0m\u001b[0;34m.\u001b[0m\u001b[0m_JAR\u001b[0m\u001b[0;34m,\u001b[0m \u001b[0mpath_to_jar\u001b[0m\u001b[0;34m,\u001b[0m\u001b[0;34m\u001b[0m\u001b[0m\n\u001b[1;32m     65\u001b[0m                 \u001b[0msearchpath\u001b[0m\u001b[0;34m=\u001b[0m\u001b[0;34m(\u001b[0m\u001b[0;34m)\u001b[0m\u001b[0;34m,\u001b[0m \u001b[0murl\u001b[0m\u001b[0;34m=\u001b[0m\u001b[0m_stanford_url\u001b[0m\u001b[0;34m,\u001b[0m\u001b[0;34m\u001b[0m\u001b[0m\n\u001b[0;32m---> 66\u001b[0;31m                 verbose=verbose)\n\u001b[0m\u001b[1;32m     67\u001b[0m \u001b[0;34m\u001b[0m\u001b[0m\n\u001b[1;32m     68\u001b[0m         self._stanford_model = find_file(model_filename,\n",
      "\u001b[0;32m~/anaconda3/lib/python3.6/site-packages/nltk/__init__.py\u001b[0m in \u001b[0;36mfind_jar\u001b[0;34m(name_pattern, path_to_jar, env_vars, searchpath, url, verbose, is_regex)\u001b[0m\n\u001b[1;32m    719\u001b[0m         searchpath=(), url=None, verbose=False, is_regex=False):\n\u001b[1;32m    720\u001b[0m     return next(find_jar_iter(name_pattern, path_to_jar, env_vars,\n\u001b[0;32m--> 721\u001b[0;31m                          searchpath, url, verbose, is_regex))\n\u001b[0m\u001b[1;32m    722\u001b[0m \u001b[0;34m\u001b[0m\u001b[0m\n\u001b[1;32m    723\u001b[0m \u001b[0;34m\u001b[0m\u001b[0m\n",
      "\u001b[0;32m~/anaconda3/lib/python3.6/site-packages/nltk/__init__.py\u001b[0m in \u001b[0;36mfind_jar_iter\u001b[0;34m(name_pattern, path_to_jar, env_vars, searchpath, url, verbose, is_regex)\u001b[0m\n\u001b[1;32m    635\u001b[0m         \u001b[0;32melse\u001b[0m\u001b[0;34m:\u001b[0m\u001b[0;34m\u001b[0m\u001b[0m\n\u001b[1;32m    636\u001b[0m             raise LookupError('Could not find %s jar file at %s' %\n\u001b[0;32m--> 637\u001b[0;31m                             (name_pattern, path_to_jar))\n\u001b[0m\u001b[1;32m    638\u001b[0m \u001b[0;34m\u001b[0m\u001b[0m\n\u001b[1;32m    639\u001b[0m     \u001b[0;31m# Check environment variables\u001b[0m\u001b[0;34m\u001b[0m\u001b[0;34m\u001b[0m\u001b[0m\n",
      "\u001b[0;31mLookupError\u001b[0m: Could not find stanford-ner.jar jar file at stanford-ner.jar"
     ]
    }
   ],
   "source": [
    "import re\n",
    "from nltk.tag import StanfordNERTagger\n",
    "text = 'While in Midlothian, Christine Saharsh Lagarde discussed short-term stimulus efforts in a recent interview with the Wall Street Journal at Stonehenge'\n",
    "text = 'we will go to Stonehenge tommorow'\n",
    "ner_tagger = StanfordNERTagger('english.all.3class.distsim.crf.ser.gz','stanford-ner.jar',encoding='utf-8')\n",
    "tokenized_text = word_tokenize(text)\n",
    "classified_text = ner_tagger.tag(tokenized_text)\n",
    "finallist = {}\n",
    "\n",
    "\n",
    "nltk.ne_chunk(GetPOSTags(text))\n",
    "\n",
    "grammar = r\"\"\"\n",
    "  FACILITY: {<FACILITY>*}  \n",
    "  GSP: {<GSP>*}  \n",
    "  LOCATION: {<LOCATION>*}\n",
    "  GPE: {<GPE>*}  \n",
    "  ORGANIZATION: {<ORGANIZATION>*}  \n",
    "  PERSON: {<PERSON>*}     \n",
    "\"\"\"\n",
    "\n",
    "cp = nltk.RegexpParser(grammar)\n",
    "result = cp.parse(classified_text)\n",
    "print(result.draw())\n",
    "\n",
    "\n",
    "pat=re.compile(\"/[a-zA-Z]*[\\s]|/.*[)]|[(]\")\n",
    "s= \"\"\n",
    "count = 0\n",
    "for chunk in result:\n",
    "    s = str(chunk[0])\n",
    "    if(s[0]=='('):\n",
    "        s = str(chunk)\n",
    "        ns=pat.sub(\" \",s)\n",
    "        #print(s)\n",
    "        #print(ns)\n",
    "        temp1 = word_tokenize(ns)\n",
    "        #print(temp1)\n",
    "        temps = \"\"\n",
    "        for i in range(1,len(temp1)):\n",
    "            temps += temp1[i] + \" \"\n",
    "        temps = temps[ : len(temps)-1]\n",
    "        finallist[temps] = temp1[0]\n",
    "print(finallist)\n",
    "            \n",
    "\n",
    "            \n",
    "           \n",
    "        \n"
   ]
  },
  {
   "cell_type": "code",
   "execution_count": null,
   "metadata": {},
   "outputs": [],
   "source": [
    "\n"
   ]
  },
  {
   "cell_type": "code",
   "execution_count": null,
   "metadata": {},
   "outputs": [],
   "source": []
  },
  {
   "cell_type": "code",
   "execution_count": null,
   "metadata": {},
   "outputs": [],
   "source": []
  },
  {
   "cell_type": "code",
   "execution_count": 7,
   "metadata": {},
   "outputs": [],
   "source": []
  },
  {
   "cell_type": "code",
   "execution_count": null,
   "metadata": {},
   "outputs": [],
   "source": []
  },
  {
   "cell_type": "code",
   "execution_count": null,
   "metadata": {},
   "outputs": [],
   "source": []
  }
 ],
 "metadata": {
  "kernelspec": {
   "display_name": "Python 3",
   "language": "python",
   "name": "python3"
  },
  "language_info": {
   "codemirror_mode": {
    "name": "ipython",
    "version": 3
   },
   "file_extension": ".py",
   "mimetype": "text/x-python",
   "name": "python",
   "nbconvert_exporter": "python",
   "pygments_lexer": "ipython3",
   "version": "3.6.4"
  }
 },
 "nbformat": 4,
 "nbformat_minor": 2
}
