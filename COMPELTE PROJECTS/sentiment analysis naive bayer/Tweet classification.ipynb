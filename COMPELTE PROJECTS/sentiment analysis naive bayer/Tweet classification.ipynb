{
 "cells": [
  {
   "cell_type": "code",
   "execution_count": 1,
   "metadata": {},
   "outputs": [],
   "source": [
    "from nltk.corpus import twitter_samples\n",
    "import nltk.classify.util\n",
    "from nltk import NaiveBayesClassifier , word_tokenize\n",
    "import string\n",
    "from nltk.corpus import stopwords"
   ]
  },
  {
   "cell_type": "code",
   "execution_count": 2,
   "metadata": {},
   "outputs": [],
   "source": [
    "def convertToFeedIntoNaiveBayer(text):\n",
    "    final = dict([(word,True) for word in text if word not in stopwords.words('english')\\\n",
    "             and word not in string.punctuation\\\n",
    "             and word.isdigit() == False])\n",
    "    return final"
   ]
  },
  {
   "cell_type": "code",
   "execution_count": 3,
   "metadata": {},
   "outputs": [
    {
     "data": {
      "text/plain": [
       "['negative_tweets.json', 'positive_tweets.json', 'tweets.20150430-223406.json']"
      ]
     },
     "execution_count": 3,
     "metadata": {},
     "output_type": "execute_result"
    }
   ],
   "source": [
    "twitter_samples.fileids()"
   ]
  },
  {
   "cell_type": "code",
   "execution_count": 4,
   "metadata": {},
   "outputs": [
    {
     "name": "stdout",
     "output_type": "stream",
     "text": [
      "{\"contributors\": null, \"coordinates\": null, \"text\": \"hopeless for tmr :(\", \"user\": {\"screen_name\": \"yuwraxkim\", \"time_zone\": \"Jakarta\", \"profile_background_image_url\": \"http://pbs.twimg.com/profile_background_images/585476378365014016/j1mvQu3c.png\", \"profile_background_image_url_https\": \"https://pbs.twimg.com/profile_background_images/585476378365014016/j1mvQu3c.png\", \"default_profile_image\": false, \"url\": null, \"profile_text_color\": \"000000\", \"following\": false, \"listed_count\": 3, \"entities\": {\"description\": {\"urls\": []}}, \"utc_offset\": 25200, \"profile_sidebar_border_color\": \"000000\", \"name\": \"yuwra \\u2708 \", \"favourites_count\": 196, \"followers_count\": 1281, \"location\": \"wearegsd;favor;pucukfams;barbx\", \"protected\": false, \"notifications\": false, \"profile_image_url_https\": \"https://pbs.twimg.com/profile_images/622631732399898624/kmYsX_k1_normal.jpg\", \"profile_use_background_image\": true, \"profile_image_url\": \"http://pbs.twimg.com/profile_images/622631732399898624/kmYsX_k1_normal.jpg\", \"lang\": \"id\", \"statuses_count\": 19710, \"friends_count\": 1264, \"profile_banner_url\": \"https://pbs.twimg.com/profile_banners/3078803375/1433287528\", \"geo_enabled\": true, \"is_translator\": false, \"contributors_enabled\": false, \"profile_sidebar_fill_color\": \"000000\", \"created_at\": \"Sun Mar 08 05:43:40 +0000 2015\", \"verified\": false, \"profile_link_color\": \"000000\", \"is_translation_enabled\": false, \"has_extended_profile\": false, \"id_str\": \"3078803375\", \"follow_request_sent\": false, \"profile_background_color\": \"000000\", \"default_profile\": false, \"profile_background_tile\": true, \"id\": 3078803375, \"description\": \"\\u21e8 [V] TravelGency \\u2588 2/4 Goddest from Girls Day \\u2588 92L \\u2588 sucrp\"}, \"retweet_count\": 0, \"favorited\": false, \"entities\": {\"hashtags\": [], \"user_mentions\": [], \"urls\": [], \"symbols\": []}, \"source\": \"<a href=\\\"https://mobile.twitter.com\\\" rel=\\\"nofollow\\\">Mobile Web (M2)</a>\", \"truncated\": false, \"geo\": null, \"in_reply_to_status_id_str\": null, \"is_quote_status\": false, \"in_reply_to_user_id_str\": null, \"place\": null, \"in_reply_to_status_id\": null, \"in_reply_to_screen_name\": null, \"lang\": \"en\", \"retweeted\": false, \"in_reply_to_user_id\": null, \"created_at\": \"Fri Jul 24 10:42:49 +0000 2015\", \"metadata\": {\"iso_language_code\": \"en\", \"result_type\": \"recent\"}, \"favorite_count\": 0, \"id_str\": \"624530164626534400\", \"id\": 624530164626534400}\n",
      "\n",
      "{\"contributors\": null, \"coordinates\": null, \"text\": \"Everything in the kids section of IKEA is so cute. Shame I'm nearly 19 in 2 months :(\", \"user\": {\"screen_name\": \"EveHollyHousley\", \"time_zone\": \"London\", \"profile_background_image_url\": \"http://pbs.twimg.com/profile_background_images/776873880/f89d8aa869414e41eefd804284a3d95c.jpeg\", \"profile_background_image_url_https\": \"https://pbs.twimg.com/profile_background_images/776873880/f89d8aa869414e41eefd804284a3d95c.jpeg\", \"default_profile_image\": false, \"url\": null, \"profile_text_color\": \"333333\", \"following\": false, \"listed_count\": 0, \"entities\": {\"description\": {\"urls\": []}}, \"utc_offset\": 3600, \"profile_sidebar_border_color\": \"FFFFFF\", \"name\": \"Eve\", \"favourites_count\": 4759, \"followers_count\": 450, \"location\": \"Manchester\", \"protected\": false, \"notifications\": false, \"profile_image_url_https\": \"https://pbs.twimg.com/profile_images/620302844093181952/M7IP4ZHa_normal.jpg\", \"profile_use_background_image\": false, \"profile_image_url\": \"http://pbs.twimg.com/profile_images/620302844093181952/M7IP4ZHa_normal.jpg\", \"lang\": \"en\", \"statuses_count\": 4384, \"friends_count\": 541, \"profile_banner_url\": \"https://pbs.twimg.com/profile_banners/383849833/1435267039\", \"geo_enabled\": true, \"is_translator\": false, \"contributors_enabled\": false, \"profile_sidebar_fill_color\": \"DDEEF6\", \"created_at\": \"Sun Oct 02 16:42:30 +0000 2011\", \"verified\": false, \"profile_link_color\": \"0084B4\", \"is_translation_enabled\": false, \"has_extended_profile\": false, \"id_str\": \"383849833\", \"follow_request_sent\": false, \"profile_background_color\": \"C0DEED\", \"default_profile\": false, \"profile_background_tile\": true, \"id\": 383849833, \"description\": \"Lauv it \\u2022 18 \\u2022 Music Student\"}, \"retweet_count\": 0, \"favorited\": false, \"entities\": {\"hashtags\": [], \"user_mentions\": [], \"urls\": [], \"symbols\": []}, \"source\": \"<a href=\\\"http://twitter.com/download/iphone\\\" rel=\\\"nofollow\\\">Twitter for iPhone</a>\", \"truncated\": false, \"geo\": null, \"in_reply_to_status_id_str\": null, \"is_quote_status\": false, \"in_reply_to_user_id_str\": null, \"place\": null, \"in_reply_to_status_id\": null, \"in_reply_to_screen_name\": null, \"lang\": \"en\", \"retweeted\": false, \"in_reply_to_user_id\": null, \"created_at\": \"Fri Jul 24 10:42:48 +0000 2015\", \"metadata\": {\"iso_language_code\": \"en\", \"result_type\": \"recent\"}, \"favorite_count\": 0, \"id_str\": \"624530162890219521\", \"id\": 624530162890219521}\n",
      "\n",
      "{\"contributors\": null, \"coordinates\": null, \"text\": \"@Hegelbon That heart sliding into the waste basket. :(\", \"user\": {\"screen_name\": \"prostgrad\", \"time_zone\": \"Athens\", \"profile_background_image_url\": \"http://abs.twimg.com/images/themes/theme15/bg.png\", \"profile_background_image_url_https\": \"https://abs.twimg.com/images/themes/theme15/bg.png\", \"default_profile_image\": false, \"url\": null, \"profile_text_color\": \"333333\", \"following\": false, \"listed_count\": 15, \"entities\": {\"description\": {\"urls\": []}}, \"utc_offset\": 10800, \"profile_sidebar_border_color\": \"FFFFFF\", \"name\": \"prostgrad\", \"favourites_count\": 14466, \"followers_count\": 667, \"location\": \"Foreign\", \"protected\": false, \"notifications\": false, \"profile_image_url_https\": \"https://pbs.twimg.com/profile_images/608321877023571968/CCmLh_2v_normal.jpg\", \"profile_use_background_image\": true, \"profile_image_url\": \"http://pbs.twimg.com/profile_images/608321877023571968/CCmLh_2v_normal.jpg\", \"lang\": \"en\", \"statuses_count\": 24578, \"friends_count\": 782, \"profile_banner_url\": \"https://pbs.twimg.com/profile_banners/486942332/1433671242\", \"geo_enabled\": true, \"is_translator\": false, \"contributors_enabled\": false, \"profile_sidebar_fill_color\": \"C0DFEC\", \"created_at\": \"Wed Feb 08 20:53:41 +0000 2012\", \"verified\": false, \"profile_link_color\": \"250AF7\", \"is_translation_enabled\": false, \"has_extended_profile\": false, \"id_str\": \"486942332\", \"follow_request_sent\": false, \"profile_background_color\": \"022330\", \"default_profile\": false, \"profile_background_tile\": false, \"id\": 486942332, \"description\": \"Hollywood's latest pillow face victim. 6'11''. Originator of the 'Can Marxist theory predict _____?' genre. In the pocket of Big Condiment.\"}, \"retweet_count\": 0, \"favorited\": false, \"entities\": {\"hashtags\": [], \"user_mentions\": [{\"id_str\": \"1633280983\", \"indices\": [0, 9], \"id\": 1633280983, \"screen_name\": \"Hegelbon\", \"name\": \"Otto Von Skatepark\"}], \"urls\": [], \"symbols\": []}, \"source\": \"<a href=\\\"http://twitter.com\\\" rel=\\\"nofollow\\\">Twitter Web Client</a>\", \"truncated\": false, \"geo\": null, \"in_reply_to_status_id_str\": \"624529756357283840\", \"is_quote_status\": false, \"in_reply_to_user_id_str\": \"1633280983\", \"place\": null, \"in_reply_to_status_id\": 624529756357283840, \"in_reply_to_screen_name\": \"Hegelbon\", \"lang\": \"en\", \"retweeted\": false, \"in_reply_to_user_id\": 1633280983, \"created_at\": \"Fri Jul 24 10:42:48 +0000 2015\", \"metadata\": {\"iso_language_code\": \"en\", \"result_type\": \"recent\"}, \"favorite_count\": 1, \"id_str\": \"624530162600812544\", \"id\": 624530162600812544}\n",
      "\n",
      "{\"contributors\": null, \"coordinates\": null, \"text\": \"\\u201c@ketchBurning: I hate Japanese call him \\\"bani\\\" :( :(\\u201d\\n\\nMe too\", \"user\": {\"screen_name\": \"burningyoppy\", \"time_zone\": \"Hawaii\", \"profile_background_image_url\": \"http://abs.twimg.com/images/themes/theme1/bg.png\", \"profile_background_image_url_https\": \"https://abs.twimg.com/images/themes/theme1/bg.png\", \"default_profile_image\": false, \"url\": null, \"profile_text_color\": \"333333\", \"following\": false, \"listed_count\": 2, \"entities\": {\"description\": {\"urls\": []}}, \"utc_offset\": -36000, \"profile_sidebar_border_color\": \"C0DEED\", \"name\": \"Yoppy \", \"favourites_count\": 2534, \"followers_count\": 209, \"location\": \"\", \"protected\": false, \"notifications\": false, \"profile_image_url_https\": \"https://pbs.twimg.com/profile_images/622396336306941952/39cd7rjF_normal.jpg\", \"profile_use_background_image\": true, \"profile_image_url\": \"http://pbs.twimg.com/profile_images/622396336306941952/39cd7rjF_normal.jpg\", \"lang\": \"ja\", \"statuses_count\": 35001, \"friends_count\": 330, \"geo_enabled\": true, \"is_translator\": false, \"contributors_enabled\": false, \"profile_sidebar_fill_color\": \"DDEEF6\", \"created_at\": \"Sun Aug 21 23:13:54 +0000 2011\", \"verified\": false, \"profile_link_color\": \"0084B4\", \"is_translation_enabled\": false, \"has_extended_profile\": false, \"id_str\": \"359645394\", \"follow_request_sent\": false, \"profile_background_color\": \"C0DEED\", \"default_profile\": true, \"profile_background_tile\": false, \"id\": 359645394, \"description\": \"the HIATUS/ [Alexandros]/NCIS etc.LIVE\\u304c\\u5927\\u597d\\u7269(^^) \\u25ce \\u9375\\u3063\\u5b50\\u306e\\u65b9\\u306f\\u30d6\\u30ed\\u30c3\\u30af\\u3057\\u307e\\u3059\\u3002\"}, \"retweet_count\": 0, \"favorited\": false, \"entities\": {\"hashtags\": [], \"user_mentions\": [{\"id_str\": \"218548620\", \"indices\": [1, 14], \"id\": 218548620, \"screen_name\": \"ketchBurning\", \"name\": \"ketch\"}], \"urls\": [], \"symbols\": []}, \"source\": \"<a href=\\\"http://twitter.com/download/iphone\\\" rel=\\\"nofollow\\\">Twitter for iPhone</a>\", \"truncated\": false, \"geo\": null, \"in_reply_to_status_id_str\": \"624527500551426049\", \"is_quote_status\": false, \"in_reply_to_user_id_str\": \"218548620\", \"place\": null, \"in_reply_to_status_id\": 624527500551426049, \"in_reply_to_screen_name\": \"ketchBurning\", \"lang\": \"en\", \"retweeted\": false, \"in_reply_to_user_id\": 218548620, \"created_at\": \"Fri Jul 24 10:42:48 +0000 2015\", \"metadata\": {\"iso_language_code\": \"en\", \"result_type\": \"recent\"}, \"favorite_count\": 0, \"id_str\": \"624530161011048448\", \"id\": 624530161011048448}\n",
      "\n",
      "{\"contributors\": null, \"coordinates\": null, \"text\": \"Dang starting next week I have \\\"work\\\" :(\", \"user\": {\"screen_name\": \"3angiefalangie\", \"time_zone\": \"Kuwait\", \"profile_background_image_url\": \"http://pbs.twimg.com/profile_background_images/378800000152854041/leKTyeo5.png\", \"profile_background_image_url_https\": \"https://pbs.twimg.com/profile_background_images/378800000152854041/leKTyeo5.png\", \"default_profile_image\": false, \"url\": null, \"profile_text_color\": \"67687B\", \"following\": false, \"listed_count\": 8, \"entities\": {\"description\": {\"urls\": []}}, \"utc_offset\": 10800, \"profile_sidebar_border_color\": \"DED4DB\", \"name\": \"Angie\", \"favourites_count\": 9879, \"followers_count\": 311, \"location\": \"\\u2022Valar Morghulis\\u2022\", \"protected\": false, \"notifications\": false, \"profile_image_url_https\": \"https://pbs.twimg.com/profile_images/619420463958102016/JTiXiDJQ_normal.jpg\", \"profile_use_background_image\": true, \"profile_image_url\": \"http://pbs.twimg.com/profile_images/619420463958102016/JTiXiDJQ_normal.jpg\", \"lang\": \"en\", \"statuses_count\": 12526, \"friends_count\": 313, \"profile_banner_url\": \"https://pbs.twimg.com/profile_banners/490280208/1437326390\", \"geo_enabled\": true, \"is_translator\": false, \"contributors_enabled\": false, \"profile_sidebar_fill_color\": \"73C3E3\", \"created_at\": \"Sun Feb 12 11:54:57 +0000 2012\", \"verified\": false, \"profile_link_color\": \"939ED3\", \"is_translation_enabled\": false, \"has_extended_profile\": false, \"id_str\": \"490280208\", \"follow_request_sent\": false, \"profile_background_color\": \"9C75A9\", \"default_profile\": false, \"profile_background_tile\": true, \"id\": 490280208, \"description\": \"It's hard to write a bio in less than 160 characters. If you really want to get to know me, just ask. I promise I won't disappoint, xo.\"}, \"retweet_count\": 0, \"favorited\": false, \"entities\": {\"hashtags\": [], \"user_mentions\": [], \"urls\": [], \"symbols\": []}, \"source\": \"<a href=\\\"http://twitter.com/download/iphone\\\" rel=\\\"nofollow\\\">Twitter for iPhone</a>\", \"truncated\": false, \"geo\": null, \"in_reply_to_status_id_str\": null, \"is_quote_status\": false, \"in_reply_to_user_id_str\": null, \"place\": null, \"in_reply_to_status_id\": null, \"in_reply_to_screen_name\": null, \"lang\": \"en\", \"retweeted\": false, \"in_reply_to_user_id\": null, \"created_at\": \"Fri Jul 24 10:42:47 +0000 2015\", \"metadata\": {\"iso_language_code\": \"en\", \"result_type\": \"recent\"}, \"favorite_count\": 0, \"id_str\": \"624530159928934400\", \"id\": 624530159928934400}\n",
      "\n",
      "{\"contributors\": null, \"coordinates\": null, \"text\": \"oh god, my babies' faces :( https://t.co/9fcwGvaki0\", \"user\": {\"screen_name\": \"samfel26\", \"time_zone\": \"Alaska\", \"profile_background_image_url\": \"http://pbs.twimg.com/profile_background_images/433997990961762304/PmOT8Bq7.png\", \"profile_background_image_url_https\": \"https://pbs.twimg.com/profile_background_images/433997990961762304/PmOT8Bq7.png\", \"default_profile_image\": false, \"url\": null, \"profile_text_color\": \"333333\", \"following\": false, \"listed_count\": 4, \"entities\": {\"description\": {\"urls\": []}}, \"utc_offset\": -28800, \"profile_sidebar_border_color\": \"000000\", \"name\": \"Sam Alvarez\", \"favourites_count\": 1786, \"followers_count\": 161, \"location\": \"Philippines\", \"protected\": false, \"notifications\": false, \"profile_image_url_https\": \"https://pbs.twimg.com/profile_images/615829650523054080/WgPQduTa_normal.jpg\", \"profile_use_background_image\": true, \"profile_image_url\": \"http://pbs.twimg.com/profile_images/615829650523054080/WgPQduTa_normal.jpg\", \"lang\": \"en\", \"statuses_count\": 9975, \"friends_count\": 128, \"profile_banner_url\": \"https://pbs.twimg.com/profile_banners/368668725/1435660127\", \"geo_enabled\": false, \"is_translator\": false, \"contributors_enabled\": false, \"profile_sidebar_fill_color\": \"DDEEF6\", \"created_at\": \"Tue Sep 06 01:15:07 +0000 2011\", \"verified\": false, \"profile_link_color\": \"FF0066\", \"is_translation_enabled\": false, \"has_extended_profile\": false, \"id_str\": \"368668725\", \"follow_request_sent\": false, \"profile_background_color\": \"FAFAFA\", \"default_profile\": false, \"profile_background_tile\": true, \"id\": 368668725, \"description\": \"Geek |18 | SONE | UPLB | BS Bio\"}, \"retweet_count\": 0, \"favorited\": false, \"entities\": {\"hashtags\": [], \"user_mentions\": [], \"urls\": [{\"expanded_url\": \"https://twitter.com/SMTownEngSub/status/624529611271974912\", \"indices\": [28, 51], \"url\": \"https://t.co/9fcwGvaki0\", \"display_url\": \"twitter.com/SMTownEngSub/s\\u2026\"}], \"symbols\": []}, \"source\": \"<a href=\\\"http://twitter.com\\\" rel=\\\"nofollow\\\">Twitter Web Client</a>\", \"truncated\": false, \"geo\": null, \"in_reply_to_status_id_str\": null, \"is_quote_status\": true, \"in_reply_to_user_id_str\": null, \"quoted_status\": {\"contributors\": null, \"coordinates\": null, \"text\": \"SNSD Music Bank Score:\\n65% Digital 3,223\\n10% Viewer 1,797\\n20% Broadcast 613\\n5% Physical 803 http://t.co/bpGdoZE7XP\", \"user\": {\"screen_name\": \"SMTownEngSub\", \"time_zone\": \"Singapore\", \"profile_background_image_url\": \"http://pbs.twimg.com/profile_background_images/746207558/ee5860d3c7f6b62447f3b3485c7aeb0b.jpeg\", \"profile_background_image_url_https\": \"https://pbs.twimg.com/profile_background_images/746207558/ee5860d3c7f6b62447f3b3485c7aeb0b.jpeg\", \"default_profile_image\": false, \"url\": \"http://t.co/o8aa7pRhQx\", \"profile_text_color\": \"000000\", \"following\": false, \"listed_count\": 1793, \"entities\": {\"url\": {\"urls\": [{\"expanded_url\": \"http://smb2stfinitesubs1.blogspot.com/\", \"indices\": [0, 22], \"url\": \"http://t.co/o8aa7pRhQx\", \"display_url\": \"smb2stfinitesubs1.blogspot.com\"}]}, \"description\": {\"urls\": []}}, \"utc_offset\": 28800, \"profile_sidebar_border_color\": \"FFFFFF\", \"name\": \"SMTownEngSub\", \"favourites_count\": 129, \"followers_count\": 397329, \"location\": \"Worldwide Trends\", \"protected\": false, \"notifications\": false, \"profile_image_url_https\": \"https://pbs.twimg.com/profile_images/583359055818702848/VBcAU5GP_normal.png\", \"profile_use_background_image\": false, \"profile_image_url\": \"http://pbs.twimg.com/profile_images/583359055818702848/VBcAU5GP_normal.png\", \"lang\": \"en\", \"statuses_count\": 44524, \"friends_count\": 66, \"profile_banner_url\": \"https://pbs.twimg.com/profile_banners/62806392/1411571340\", \"geo_enabled\": false, \"is_translator\": false, \"contributors_enabled\": false, \"profile_sidebar_fill_color\": \"252429\", \"created_at\": \"Tue Aug 04 12:40:26 +0000 2009\", \"verified\": false, \"profile_link_color\": \"DD2E44\", \"is_translation_enabled\": false, \"has_extended_profile\": false, \"id_str\": \"62806392\", \"follow_request_sent\": false, \"profile_background_color\": \"ABB8C2\", \"default_profile\": false, \"profile_background_tile\": false, \"id\": 62806392, \"description\": \"Providing Online Rankings and English Subbed Video Updates for BoA, DB5K, Super Junior, SNSD, SHINee, f(x), EXO, Red Velvet, SMROOKIES, etc.\"}, \"retweet_count\": 175, \"favorited\": false, \"entities\": {\"media\": [{\"sizes\": {\"medium\": {\"h\": 336, \"w\": 600, \"resize\": \"fit\"}, \"small\": {\"h\": 190, \"w\": 340, \"resize\": \"fit\"}, \"large\": {\"h\": 574, \"w\": 1024, \"resize\": \"fit\"}, \"thumb\": {\"h\": 150, \"w\": 150, \"resize\": \"crop\"}}, \"type\": \"photo\", \"expanded_url\": \"http://twitter.com/SMTownEngSub/status/624529611271974912/photo/1\", \"display_url\": \"pic.twitter.com/bpGdoZE7XP\", \"media_url\": \"http://pbs.twimg.com/media/CKrGUcMUEAAgurW.jpg\", \"id\": 624529552811757568, \"indices\": [92, 114], \"id_str\": \"624529552811757568\", \"url\": \"http://t.co/bpGdoZE7XP\", \"media_url_https\": \"https://pbs.twimg.com/media/CKrGUcMUEAAgurW.jpg\"}], \"hashtags\": [], \"user_mentions\": [], \"urls\": [], \"symbols\": []}, \"source\": \"<a href=\\\"https://about.twitter.com/products/tweetdeck\\\" rel=\\\"nofollow\\\">TweetDeck</a>\", \"truncated\": false, \"geo\": null, \"in_reply_to_status_id_str\": null, \"is_quote_status\": false, \"in_reply_to_user_id_str\": null, \"place\": null, \"in_reply_to_status_id\": null, \"in_reply_to_screen_name\": null, \"lang\": \"en\", \"retweeted\": false, \"in_reply_to_user_id\": null, \"created_at\": \"Fri Jul 24 10:40:37 +0000 2015\", \"metadata\": {\"iso_language_code\": \"en\", \"result_type\": \"recent\"}, \"favorite_count\": 50, \"id_str\": \"624529611271974912\", \"possibly_sensitive\": false, \"id\": 624529611271974912}, \"in_reply_to_status_id\": null, \"in_reply_to_screen_name\": null, \"lang\": \"en\", \"retweeted\": false, \"quoted_status_id\": 624529611271974912, \"in_reply_to_user_id\": null, \"created_at\": \"Fri Jul 24 10:42:47 +0000 2015\", \"metadata\": {\"iso_language_code\": \"en\", \"result_type\": \"recent\"}, \"favorite_count\": 0, \"id_str\": \"624530159593394176\", \"possibly_sensitive\": false, \"place\": null, \"quoted_status_id_str\": \"624529611271974912\", \"id\": 624530159593394176}\n",
      "\n",
      "{\"contributors\": null, \"coordinates\": null, \"text\": \"@RileyMcDonough make me smile :((\", \"user\": {\"screen_name\": \"Cristalyaa_\", \"time_zone\": \"Beijing\", \"profile_background_image_url\": \"http://pbs.twimg.com/profile_background_images/589985714462326784/oAHqNMFx.jpg\", \"profile_background_image_url_https\": \"https://pbs.twimg.com/profile_background_images/589985714462326784/oAHqNMFx.jpg\", \"default_profile_image\": false, \"url\": null, \"profile_text_color\": \"333333\", \"following\": false, \"listed_count\": 0, \"entities\": {\"description\": {\"urls\": []}}, \"utc_offset\": 28800, \"profile_sidebar_border_color\": \"000000\", \"name\": \"\\u00d7\\u00d7\\u00d7\", \"favourites_count\": 1006, \"followers_count\": 155, \"location\": \"\", \"protected\": false, \"notifications\": false, \"profile_image_url_https\": \"https://pbs.twimg.com/profile_images/623827940409634816/CBsRpq_w_normal.jpg\", \"profile_use_background_image\": true, \"profile_image_url\": \"http://pbs.twimg.com/profile_images/623827940409634816/CBsRpq_w_normal.jpg\", \"lang\": \"en\", \"statuses_count\": 5246, \"friends_count\": 252, \"profile_banner_url\": \"https://pbs.twimg.com/profile_banners/945650316/1437302293\", \"geo_enabled\": true, \"is_translator\": false, \"contributors_enabled\": false, \"profile_sidebar_fill_color\": \"DDEEF6\", \"created_at\": \"Tue Nov 13 11:58:31 +0000 2012\", \"verified\": false, \"profile_link_color\": \"DD2E44\", \"is_translation_enabled\": false, \"has_extended_profile\": false, \"id_str\": \"945650316\", \"follow_request_sent\": false, \"profile_background_color\": \"242223\", \"default_profile\": false, \"profile_background_tile\": true, \"id\": 945650316, \"description\": \"high af outside, but broken inside || EXITER\"}, \"retweet_count\": 0, \"favorited\": false, \"entities\": {\"hashtags\": [], \"user_mentions\": [{\"id_str\": \"64537551\", \"indices\": [0, 15], \"id\": 64537551, \"screen_name\": \"RileyMcDonough\", \"name\": \"Riley McDonough\"}], \"urls\": [], \"symbols\": []}, \"source\": \"<a href=\\\"http://twitter.com/download/android\\\" rel=\\\"nofollow\\\">Twitter for Android</a>\", \"truncated\": false, \"geo\": null, \"in_reply_to_status_id_str\": null, \"is_quote_status\": false, \"in_reply_to_user_id_str\": \"64537551\", \"place\": null, \"in_reply_to_status_id\": null, \"in_reply_to_screen_name\": \"RileyMcDonough\", \"lang\": \"en\", \"retweeted\": false, \"in_reply_to_user_id\": 64537551, \"created_at\": \"Fri Jul 24 10:42:45 +0000 2015\", \"metadata\": {\"iso_language_code\": \"en\", \"result_type\": \"recent\"}, \"favorite_count\": 0, \"id_str\": \"624530150034571264\", \"id\": 624530150034571264}\n",
      "\n",
      "{\"contributors\": null, \"coordinates\": null, \"text\": \"@f0ggstar @stuartthull work neighbour on motors. Asked why and he said hates the updates on search :( http://t.co/XvmTUikWln\", \"user\": {\"screen_name\": \"busjharv\", \"time_zone\": \"Dublin\", \"profile_background_image_url\": \"http://abs.twimg.com/images/themes/theme9/bg.gif\", \"profile_background_image_url_https\": \"https://abs.twimg.com/images/themes/theme9/bg.gif\", \"default_profile_image\": false, \"url\": null, \"profile_text_color\": \"666666\", \"following\": false, \"listed_count\": 12, \"entities\": {\"description\": {\"urls\": []}}, \"utc_offset\": 3600, \"profile_sidebar_border_color\": \"181A1E\", \"name\": \"John Harvey\", \"favourites_count\": 2648, \"followers_count\": 379, \"location\": \"Liverpool\", \"protected\": false, \"notifications\": false, \"profile_image_url_https\": \"https://pbs.twimg.com/profile_images/1283879938/jrh_normal.JPG\", \"profile_use_background_image\": true, \"profile_image_url\": \"http://pbs.twimg.com/profile_images/1283879938/jrh_normal.JPG\", \"lang\": \"en\", \"statuses_count\": 8715, \"friends_count\": 457, \"profile_banner_url\": \"https://pbs.twimg.com/profile_banners/270908788/1355312086\", \"geo_enabled\": true, \"is_translator\": false, \"contributors_enabled\": false, \"profile_sidebar_fill_color\": \"252429\", \"created_at\": \"Wed Mar 23 13:42:17 +0000 2011\", \"verified\": false, \"profile_link_color\": \"2FC2EF\", \"is_translation_enabled\": false, \"has_extended_profile\": false, \"id_str\": \"270908788\", \"follow_request_sent\": false, \"profile_background_color\": \"1A1B1F\", \"default_profile\": false, \"profile_background_tile\": false, \"id\": 270908788, \"description\": \"Head of Business Analysis - Genting UK.\\n\\nLean & Kanban evangilist, public speaker and big footy fan.\\n\\nAll tweets are my own personal views & opinions.\"}, \"retweet_count\": 0, \"favorited\": false, \"entities\": {\"media\": [{\"sizes\": {\"medium\": {\"h\": 450, \"w\": 600, \"resize\": \"fit\"}, \"small\": {\"h\": 255, \"w\": 340, \"resize\": \"fit\"}, \"large\": {\"h\": 768, \"w\": 1024, \"resize\": \"fit\"}, \"thumb\": {\"h\": 150, \"w\": 150, \"resize\": \"crop\"}}, \"type\": \"photo\", \"expanded_url\": \"http://twitter.com/busjharv/status/624530148726022144/photo/1\", \"display_url\": \"pic.twitter.com/XvmTUikWln\", \"media_url\": \"http://pbs.twimg.com/media/CKrG3HoWcAAoCzG.jpg\", \"id\": 624530148587630592, \"indices\": [102, 124], \"id_str\": \"624530148587630592\", \"url\": \"http://t.co/XvmTUikWln\", \"media_url_https\": \"https://pbs.twimg.com/media/CKrG3HoWcAAoCzG.jpg\"}], \"hashtags\": [], \"user_mentions\": [{\"id_str\": \"216056584\", \"indices\": [0, 9], \"id\": 216056584, \"screen_name\": \"f0ggstar\", \"name\": \"Foggy\"}, {\"id_str\": \"148306222\", \"indices\": [10, 22], \"id\": 148306222, \"screen_name\": \"stuartthull\", \"name\": \"Stuart Hull\"}], \"urls\": [], \"symbols\": []}, \"source\": \"<a href=\\\"http://www.apple.com\\\" rel=\\\"nofollow\\\">iOS</a>\", \"truncated\": false, \"geo\": null, \"in_reply_to_status_id_str\": null, \"is_quote_status\": false, \"in_reply_to_user_id_str\": \"216056584\", \"place\": null, \"in_reply_to_status_id\": null, \"in_reply_to_screen_name\": \"f0ggstar\", \"lang\": \"en\", \"retweeted\": false, \"in_reply_to_user_id\": 216056584, \"created_at\": \"Fri Jul 24 10:42:45 +0000 2015\", \"metadata\": {\"iso_language_code\": \"en\", \"result_type\": \"recent\"}, \"favorite_count\": 0, \"id_str\": \"624530148726022144\", \"possibly_sensitive\": false, \"id\": 624530148726022144}\n",
      "\n",
      "{\"contributors\": null, \"coordinates\": null, \"text\": \"why?:(\\\"@tahuodyy: sialan:( https://t.co/Hv1i0xcrL2\\\"\", \"user\": {\"screen_name\": \"Aditeajones\", \"time_zone\": \"Bangkok\", \"profile_background_image_url\": \"http://abs.twimg.com/images/themes/theme1/bg.png\", \"profile_background_image_url_https\": \"https://abs.twimg.com/images/themes/theme1/bg.png\", \"default_profile_image\": false, \"url\": null, \"profile_text_color\": \"333333\", \"following\": false, \"listed_count\": 0, \"entities\": {\"description\": {\"urls\": []}}, \"utc_offset\": 25200, \"profile_sidebar_border_color\": \"C0DEED\", \"name\": \"tea\", \"favourites_count\": 21, \"followers_count\": 1194, \"location\": \"PARODY LAND\", \"protected\": false, \"notifications\": false, \"profile_image_url_https\": \"https://pbs.twimg.com/profile_images/623579050355765249/wL4DgLH3_normal.jpg\", \"profile_use_background_image\": true, \"profile_image_url\": \"http://pbs.twimg.com/profile_images/623579050355765249/wL4DgLH3_normal.jpg\", \"lang\": \"en\", \"statuses_count\": 5243, \"friends_count\": 484, \"profile_banner_url\": \"https://pbs.twimg.com/profile_banners/2256003218/1437579145\", \"geo_enabled\": false, \"is_translator\": false, \"contributors_enabled\": false, \"profile_sidebar_fill_color\": \"DDEEF6\", \"created_at\": \"Sat Dec 21 04:56:38 +0000 2013\", \"verified\": false, \"profile_link_color\": \"0084B4\", \"is_translation_enabled\": false, \"has_extended_profile\": false, \"id_str\": \"2256003218\", \"follow_request_sent\": false, \"profile_background_color\": \"C0DEED\", \"default_profile\": true, \"profile_background_tile\": false, \"id\": 2256003218, \"description\": \"cuma parodynya @Adityajunas yang hanya kebetulan lewat . #4farius\"}, \"retweet_count\": 0, \"favorited\": false, \"entities\": {\"hashtags\": [], \"user_mentions\": [{\"id_str\": \"1372178666\", \"indices\": [7, 16], \"id\": 1372178666, \"screen_name\": \"tahuodyy\", \"name\": \"tahu\"}], \"urls\": [{\"expanded_url\": \"https://twitter.com/aditeajones/status/624529620612681729\", \"indices\": [27, 50], \"url\": \"https://t.co/Hv1i0xcrL2\", \"display_url\": \"twitter.com/aditeajones/st\\u2026\"}], \"symbols\": []}, \"source\": \"<a href=\\\"http://twitter.com/download/android\\\" rel=\\\"nofollow\\\">Twitter for Android</a>\", \"truncated\": false, \"geo\": null, \"in_reply_to_status_id_str\": null, \"is_quote_status\": true, \"in_reply_to_user_id_str\": null, \"quoted_status\": {\"contributors\": null, \"coordinates\": null, \"text\": \"cewek itu keren. kalo kencing gak pernah dipegangin ._.\", \"user\": {\"screen_name\": \"Aditeajones\", \"time_zone\": \"Bangkok\", \"profile_background_image_url\": \"http://abs.twimg.com/images/themes/theme1/bg.png\", \"profile_background_image_url_https\": \"https://abs.twimg.com/images/themes/theme1/bg.png\", \"default_profile_image\": false, \"url\": null, \"profile_text_color\": \"333333\", \"following\": false, \"listed_count\": 0, \"entities\": {\"description\": {\"urls\": []}}, \"utc_offset\": 25200, \"profile_sidebar_border_color\": \"C0DEED\", \"name\": \"tea\", \"favourites_count\": 21, \"followers_count\": 1194, \"location\": \"PARODY LAND\", \"protected\": false, \"notifications\": false, \"profile_image_url_https\": \"https://pbs.twimg.com/profile_images/623579050355765249/wL4DgLH3_normal.jpg\", \"profile_use_background_image\": true, \"profile_image_url\": \"http://pbs.twimg.com/profile_images/623579050355765249/wL4DgLH3_normal.jpg\", \"lang\": \"en\", \"statuses_count\": 5243, \"friends_count\": 484, \"profile_banner_url\": \"https://pbs.twimg.com/profile_banners/2256003218/1437579145\", \"geo_enabled\": false, \"is_translator\": false, \"contributors_enabled\": false, \"profile_sidebar_fill_color\": \"DDEEF6\", \"created_at\": \"Sat Dec 21 04:56:38 +0000 2013\", \"verified\": false, \"profile_link_color\": \"0084B4\", \"is_translation_enabled\": false, \"has_extended_profile\": false, \"id_str\": \"2256003218\", \"follow_request_sent\": false, \"profile_background_color\": \"C0DEED\", \"default_profile\": true, \"profile_background_tile\": false, \"id\": 2256003218, \"description\": \"cuma parodynya @Adityajunas yang hanya kebetulan lewat . #4farius\"}, \"retweet_count\": 0, \"favorited\": false, \"entities\": {\"hashtags\": [], \"user_mentions\": [], \"urls\": [], \"symbols\": []}, \"source\": \"<a href=\\\"http://twitter.com/download/android\\\" rel=\\\"nofollow\\\">Twitter for Android</a>\", \"truncated\": false, \"geo\": null, \"in_reply_to_status_id_str\": null, \"is_quote_status\": false, \"in_reply_to_user_id_str\": null, \"place\": null, \"in_reply_to_status_id\": null, \"in_reply_to_screen_name\": null, \"lang\": \"in\", \"retweeted\": false, \"in_reply_to_user_id\": null, \"created_at\": \"Fri Jul 24 10:40:39 +0000 2015\", \"metadata\": {\"iso_language_code\": \"en\", \"result_type\": \"recent\"}, \"favorite_count\": 0, \"id_str\": \"624529620612681729\", \"id\": 624529620612681729}, \"in_reply_to_status_id\": null, \"in_reply_to_screen_name\": null, \"lang\": \"en\", \"retweeted\": false, \"quoted_status_id\": 624529620612681729, \"in_reply_to_user_id\": null, \"created_at\": \"Fri Jul 24 10:42:45 +0000 2015\", \"metadata\": {\"iso_language_code\": \"en\", \"result_type\": \"recent\"}, \"favorite_count\": 0, \"id_str\": \"624530148671381504\", \"possibly_sensitive\": false, \"place\": null, \"quoted_status_id_str\": \"624529620612681729\", \"id\": 624530148671381504}\n",
      "\n",
      "{\"contributors\": null, \"coordinates\": null, \"text\": \"Athabasca glacier was there in #1948 :-( #athabasca #glacier #jasper #jaspernationalpark #alberta #explorealberta #\\u2026 http://t.co/dZZdqmf7Cz\", \"user\": {\"screen_name\": \"instatagcanada\", \"time_zone\": null, \"profile_background_image_url\": \"http://abs.twimg.com/images/themes/theme1/bg.png\", \"profile_background_image_url_https\": \"https://abs.twimg.com/images/themes/theme1/bg.png\", \"default_profile_image\": false, \"url\": null, \"profile_text_color\": \"333333\", \"following\": false, \"listed_count\": 681, \"entities\": {\"description\": {\"urls\": []}}, \"utc_offset\": null, \"profile_sidebar_border_color\": \"C0DEED\", \"name\": \"Insta Tag Canada\", \"favourites_count\": 0, \"followers_count\": 945, \"location\": \"\", \"protected\": false, \"notifications\": false, \"profile_image_url_https\": \"https://pbs.twimg.com/profile_images/502468407254470656/EE1P6dd7_normal.png\", \"profile_use_background_image\": true, \"profile_image_url\": \"http://pbs.twimg.com/profile_images/502468407254470656/EE1P6dd7_normal.png\", \"lang\": \"en\", \"statuses_count\": 92813, \"friends_count\": 0, \"profile_banner_url\": \"https://pbs.twimg.com/profile_banners/2752279284/1408633066\", \"geo_enabled\": false, \"is_translator\": false, \"contributors_enabled\": false, \"profile_sidebar_fill_color\": \"DDEEF6\", \"created_at\": \"Thu Aug 21 14:47:10 +0000 2014\", \"verified\": false, \"profile_link_color\": \"0084B4\", \"is_translation_enabled\": false, \"has_extended_profile\": false, \"id_str\": \"2752279284\", \"follow_request_sent\": false, \"profile_background_color\": \"C0DEED\", \"default_profile\": true, \"profile_background_tile\": false, \"id\": 2752279284, \"description\": \"\"}, \"retweet_count\": 0, \"favorited\": false, \"entities\": {\"media\": [{\"sizes\": {\"medium\": {\"h\": 600, \"w\": 600, \"resize\": \"fit\"}, \"small\": {\"h\": 340, \"w\": 340, \"resize\": \"fit\"}, \"large\": {\"h\": 640, \"w\": 640, \"resize\": \"fit\"}, \"thumb\": {\"h\": 150, \"w\": 150, \"resize\": \"crop\"}}, \"type\": \"photo\", \"expanded_url\": \"http://twitter.com/instatagcanada/status/624530147102838784/photo/1\", \"display_url\": \"pic.twitter.com/dZZdqmf7Cz\", \"media_url\": \"http://pbs.twimg.com/media/CKrG3BjWEAIp1rS.jpg\", \"id\": 624530146956021762, \"indices\": [117, 139], \"id_str\": \"624530146956021762\", \"url\": \"http://t.co/dZZdqmf7Cz\", \"media_url_https\": \"https://pbs.twimg.com/media/CKrG3BjWEAIp1rS.jpg\"}], \"hashtags\": [{\"indices\": [41, 51], \"text\": \"athabasca\"}, {\"indices\": [52, 60], \"text\": \"glacier\"}, {\"indices\": [61, 68], \"text\": \"jasper\"}, {\"indices\": [69, 88], \"text\": \"jaspernationalpark\"}, {\"indices\": [89, 97], \"text\": \"alberta\"}, {\"indices\": [98, 113], \"text\": \"explorealberta\"}], \"user_mentions\": [], \"urls\": [], \"symbols\": []}, \"source\": \"<a href=\\\"http://ifttt.com\\\" rel=\\\"nofollow\\\">IFTTT</a>\", \"truncated\": false, \"geo\": null, \"in_reply_to_status_id_str\": null, \"is_quote_status\": false, \"in_reply_to_user_id_str\": null, \"place\": null, \"in_reply_to_status_id\": null, \"in_reply_to_screen_name\": null, \"lang\": \"en\", \"retweeted\": false, \"in_reply_to_user_id\": null, \"created_at\": \"Fri Jul 24 10:42:44 +0000 2015\", \"metadata\": {\"iso_language_code\": \"en\", \"result_type\": \"recent\"}, \"favorite_count\": 0, \"id_str\": \"624530147102838784\", \"possibly_sensitive\": false, \"id\": 624530147102838784}\n",
      "\n",
      "{\"contributors\": null, \"coordinates\": null, \"text\": \"I have a really good m&amp;g idea but I'm never going to meet them :(((\", \"user\": {\"screen_name\": \"lowerthancon\", \"time_zone\": \"Amsterdam\", \"profile_background_image_url\": \"http://pbs.twimg.com/profile_background_images/506558240797097985/qlwbtera.jpeg\", \"profile_background_image_url_https\": \"https://pbs.twimg.com/profile_background_images/506558240797097985/qlwbtera.jpeg\", \"default_profile_image\": false, \"url\": \"https://t.co/3ZpWAlVxrE\", \"profile_text_color\": \"333333\", \"following\": false, \"listed_count\": 5, \"entities\": {\"url\": {\"urls\": [{\"expanded_url\": \"https://twitter.com/lowerthancon/status/610886865990848513\", \"indices\": [0, 23], \"url\": \"https://t.co/3ZpWAlVxrE\", \"display_url\": \"twitter.com/lowerthancon/s\\u2026\"}]}, \"description\": {\"urls\": []}}, \"utc_offset\": 7200, \"profile_sidebar_border_color\": \"000000\", \"name\": \"el |holiday\", \"favourites_count\": 7385, \"followers_count\": 1658, \"location\": \"con/4\", \"protected\": false, \"notifications\": false, \"profile_image_url_https\": \"https://pbs.twimg.com/profile_images/620704327603253248/XV25zqeJ_normal.jpg\", \"profile_use_background_image\": true, \"profile_image_url\": \"http://pbs.twimg.com/profile_images/620704327603253248/XV25zqeJ_normal.jpg\", \"lang\": \"en\", \"statuses_count\": 21568, \"friends_count\": 848, \"profile_banner_url\": \"https://pbs.twimg.com/profile_banners/537395392/1436822690\", \"geo_enabled\": true, \"is_translator\": false, \"contributors_enabled\": false, \"profile_sidebar_fill_color\": \"FFFFFF\", \"created_at\": \"Mon Mar 26 17:20:47 +0000 2012\", \"verified\": false, \"profile_link_color\": \"E075CE\", \"is_translation_enabled\": false, \"has_extended_profile\": false, \"id_str\": \"537395392\", \"follow_request_sent\": false, \"profile_background_color\": \"B2DFDA\", \"default_profile\": false, \"profile_background_tile\": true, \"id\": 537395392, \"description\": \"shan+em+cait\"}, \"retweet_count\": 1, \"favorited\": false, \"entities\": {\"hashtags\": [], \"user_mentions\": [], \"urls\": [], \"symbols\": []}, \"source\": \"<a href=\\\"http://twitter.com/download/iphone\\\" rel=\\\"nofollow\\\">Twitter for iPhone</a>\", \"truncated\": false, \"geo\": null, \"in_reply_to_status_id_str\": null, \"is_quote_status\": false, \"in_reply_to_user_id_str\": null, \"place\": null, \"in_reply_to_status_id\": null, \"in_reply_to_screen_name\": null, \"lang\": \"en\", \"retweeted\": false, \"in_reply_to_user_id\": null, \"created_at\": \"Fri Jul 24 10:42:44 +0000 2015\", \"metadata\": {\"iso_language_code\": \"en\", \"result_type\": \"recent\"}, \"favorite_count\": 0, \"id_str\": \"624530143613165568\", \"id\": 624530143613165568}\n",
      "\n"
     ]
    }
   ],
   "source": [
    "negTweets = []\n",
    "posTweets = []\n",
    "f= twitter_samples.open('negative_tweets.json')\n",
    "count = 0\n",
    "for tweet in f:\n",
    "    print(tweet)\n",
    "    count += 1\n",
    "    if count >10:\n",
    "        break\n",
    "# I was just going to extract tweet from it but came to know that there's a attribute of twitter_sample that directly\n",
    "#gives the tweets (strings)"
   ]
  },
  {
   "cell_type": "code",
   "execution_count": 15,
   "metadata": {},
   "outputs": [
    {
     "name": "stdout",
     "output_type": "stream",
     "text": [
      "#FollowFriday @France_Inte @PKuchly57 @Milipol_Paris for being top engaged members in my community this week :)\n",
      "@Lamb2ja Hey James! How odd :/ Please call our Contact Centre on 02392441234 and we will be able to assist you :) Many thanks!\n",
      "@DespiteOfficial we had a listen last night :) As You Bleed is an amazing track. When are you in Scotland?!\n",
      "@97sides CONGRATS :)\n",
      "yeaaaah yippppy!!!  my accnt verified rqst has succeed got a blue tick mark on my fb profile :) in 15 days\n",
      "@BhaktisBanter @PallaviRuhail This one is irresistible :)\n",
      "#FlipkartFashionFriday http://t.co/EbZ0L2VENM\n",
      "We don't like to keep our lovely customers waiting for long! We hope you enjoy! Happy Friday! - LWWF :) https://t.co/smyYriipxI\n",
      "@Impatientraider On second thought, there’s just not enough time for a DD :) But new shorts entering system. Sheep must be buying.\n",
      "Jgh , but we have to go to Bayan :D bye\n",
      "As an act of mischievousness, am calling the ETL layer of our in-house warehousing app Katamari.\n",
      "\n",
      "Well… as the name implies :p.\n",
      "#FollowFriday @wncer1 @Defense_gouv for being top influencers in my community this week :)\n"
     ]
    }
   ],
   "source": [
    "f= twitter_samples.strings('positive_tweets.json')\n",
    "count = 0\n",
    "for tweet in f:\n",
    "    print(tweet)\n",
    "    count += 1\n",
    "    if count >10:\n",
    "        break"
   ]
  },
  {
   "cell_type": "markdown",
   "metadata": {},
   "source": [
    "#### we don't need smily :()"
   ]
  },
  {
   "cell_type": "code",
   "execution_count": 32,
   "metadata": {},
   "outputs": [],
   "source": [
    "for tweet in twitter_samples.strings('negative_tweets.json'):\n",
    "    tweet = tweet.replace(\":\",\"\").replace(\")\",\"\").replace(\"(\",\"\")\n",
    "    tweet = word_tokenize(tweet)\n",
    "    negTweets.append((convertToFeedIntoNaiveBayer(tweet),\"negative\"))\n",
    "\n",
    "for tweet in twitter_samples.strings('positive_tweets.json'):\n",
    "    tweet = tweet.replace(\":\",\"\").replace(\")\",\"\").replace(\"(\",\"\")\n",
    "    tweet = word_tokenize(tweet)\n",
    "    posTweets.append((convertToFeedIntoNaiveBayer(tweet),\"positive\"))\n",
    "#why adding two terms? tweet and pos\n",
    "#the other one is lable of data \n",
    "#we are making labelled dataset as it wasn't labelled and ML models need labelle dataset\n",
    "#so posTweet is list of dictionary"
   ]
  },
  {
   "cell_type": "code",
   "execution_count": 33,
   "metadata": {},
   "outputs": [
    {
     "name": "stdout",
     "output_type": "stream",
     "text": [
      "({'hopeless': True, 'tmr': True}, 'negative')\n",
      "({'FollowFriday': True, 'France_Inte': True, 'PKuchly57': True, 'Milipol_Paris': True, 'top': True, 'engaged': True, 'members': True, 'community': True, 'week': True}, 'positive')\n"
     ]
    },
    {
     "data": {
      "text/plain": [
       "10000"
      ]
     },
     "execution_count": 33,
     "metadata": {},
     "output_type": "execute_result"
    }
   ],
   "source": [
    "print(negTweets[0])\n",
    "print(posTweets[0])\n",
    "len(negTweets)"
   ]
  },
  {
   "cell_type": "code",
   "execution_count": 25,
   "metadata": {},
   "outputs": [],
   "source": [
    "trainSet = negTweets[:4800] + posTweets[:4800]\n",
    "testSet = negTweets[4800:] + posTweets[4800:]"
   ]
  },
  {
   "cell_type": "code",
   "execution_count": 26,
   "metadata": {},
   "outputs": [],
   "source": [
    "classifier = NaiveBayesClassifier.train(trainSet)"
   ]
  },
  {
   "cell_type": "code",
   "execution_count": 27,
   "metadata": {},
   "outputs": [],
   "source": [
    "def printTweetType(tweet):\n",
    "    tweet = word_tokenize(tweet)\n",
    "    tweet = [word.lower() for word in tweet]\n",
    "    tweet = convertToFeedIntoNaiveBayer(tweet)\n",
    "    return classifier.classify(tweet)"
   ]
  },
  {
   "cell_type": "code",
   "execution_count": 28,
   "metadata": {},
   "outputs": [
    {
     "data": {
      "text/plain": [
       "78.0"
      ]
     },
     "execution_count": 28,
     "metadata": {},
     "output_type": "execute_result"
    }
   ],
   "source": [
    "accuracy  = nltk.classify.util.accuracy(classifier,testSet)\n",
    "accuracy*100"
   ]
  },
  {
   "cell_type": "code",
   "execution_count": 29,
   "metadata": {},
   "outputs": [
    {
     "data": {
      "text/plain": [
       "'negative'"
      ]
     },
     "execution_count": 29,
     "metadata": {},
     "output_type": "execute_result"
    }
   ],
   "source": [
    "s = \"damn it that was so bad\"\n",
    "printTweetType(s)"
   ]
  },
  {
   "cell_type": "code",
   "execution_count": 38,
   "metadata": {},
   "outputs": [
    {
     "data": {
      "text/plain": [
       "'positive'"
      ]
     },
     "execution_count": 38,
     "metadata": {},
     "output_type": "execute_result"
    }
   ],
   "source": [
    "s1 = \"i just met my school friend , It was nice experience\"\n",
    "printTweetType(s1)"
   ]
  },
  {
   "cell_type": "code",
   "execution_count": 40,
   "metadata": {},
   "outputs": [
    {
     "data": {
      "text/plain": [
       "'positive'"
      ]
     },
     "execution_count": 40,
     "metadata": {},
     "output_type": "execute_result"
    }
   ],
   "source": [
    "s2 = \"Fun Movie time \"\n",
    "printTweetType(s2)"
   ]
  },
  {
   "cell_type": "code",
   "execution_count": 41,
   "metadata": {},
   "outputs": [
    {
     "data": {
      "text/plain": [
       "'positive'"
      ]
     },
     "execution_count": 41,
     "metadata": {},
     "output_type": "execute_result"
    }
   ],
   "source": [
    "s3 = \"This tweet isn't positive or negative , lets see what does the model has to say about this?\"\n",
    "printTweetType(s3)"
   ]
  },
  {
   "cell_type": "markdown",
   "metadata": {},
   "source": [
    "### This isn't very accurate classifier\n",
    "#### why?\n",
    "* small dataset\n",
    "* no neural category , so it cannot predict anything for neutral tweet\n",
    "\n",
    "## Another model with a larger dataset and neutral category should  be used"
   ]
  },
  {
   "cell_type": "code",
   "execution_count": null,
   "metadata": {},
   "outputs": [],
   "source": []
  }
 ],
 "metadata": {
  "kernelspec": {
   "display_name": "Python 3",
   "language": "python",
   "name": "python3"
  },
  "language_info": {
   "codemirror_mode": {
    "name": "ipython",
    "version": 3
   },
   "file_extension": ".py",
   "mimetype": "text/x-python",
   "name": "python",
   "nbconvert_exporter": "python",
   "pygments_lexer": "ipython3",
   "version": "3.6.4"
  }
 },
 "nbformat": 4,
 "nbformat_minor": 2
}
